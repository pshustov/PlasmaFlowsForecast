{
 "cells": [
  {
   "cell_type": "code",
   "execution_count": 18,
   "metadata": {},
   "outputs": [],
   "source": [
    "import numpy as np\n",
    "import dataFlux\n",
    "import matplotlib.pyplot as plt\n",
    "import pyspedas\n",
    "import PyGeopack as gp\n",
    "import TraceFieldMy as TFm\n",
    "from scipy.interpolate import interp1d\n",
    "\n",
    "RE = 6371"
   ]
  },
  {
   "cell_type": "code",
   "execution_count": 5,
   "metadata": {},
   "outputs": [],
   "source": [
    "data = dataFlux.get_dataflux(4, \"20120907\", \"20130901\")"
   ]
  },
  {
   "cell_type": "code",
   "execution_count": 8,
   "metadata": {},
   "outputs": [
    {
     "data": {
      "text/plain": [
       "dict_keys(['times', 'MLAT1', 'MLAT2', 'Lshell', 'fluxes1', 'fluxes2', 'fluxesRBSP', 'Pdyn', 'SymH', 'By', 'Bz', 'kp'])"
      ]
     },
     "execution_count": 8,
     "metadata": {},
     "output_type": "execute_result"
    }
   ],
   "source": [
    "data.keys()"
   ]
  },
  {
   "cell_type": "code",
   "execution_count": null,
   "metadata": {},
   "outputs": [],
   "source": []
  },
  {
   "cell_type": "code",
   "execution_count": 68,
   "metadata": {},
   "outputs": [],
   "source": [
    "f1 = data.get('fluxes1')\n",
    "f1[np.where(f1 < 0)] = 0\n",
    "f1 = np.sum(f1, axis=1)\n",
    "\n",
    "f2 = data.get('fluxes2')\n",
    "f2[np.where(f2 < 0)] = 0\n",
    "f2 = np.sum(f2, axis=1)\n",
    "\n",
    "ft = data.get('fluxesRBSP')\n",
    "ft[np.where(ft < 0)] = 0\n",
    "ft = np.sum(ft, axis=1)"
   ]
  },
  {
   "cell_type": "code",
   "execution_count": null,
   "metadata": {},
   "outputs": [],
   "source": [
    "f1[535,:]"
   ]
  },
  {
   "cell_type": "code",
   "execution_count": 10,
   "metadata": {},
   "outputs": [],
   "source": [
    "bins = np.logspace(2, 8, 40)\n",
    "H, xedges, yedges = np.histogram2d(f1, f2, bins=bins)"
   ]
  },
  {
   "cell_type": "code",
   "execution_count": null,
   "metadata": {},
   "outputs": [],
   "source": [
    "np.savetxt(\"binsX.txt\",xedges)\n",
    "np.savetxt(\"binsY.txt\",yedges)\n",
    "np.savetxt(\"binsZ.txt\",H)"
   ]
  },
  {
   "cell_type": "code",
   "execution_count": null,
   "metadata": {},
   "outputs": [],
   "source": [
    "np.max(f2)"
   ]
  },
  {
   "cell_type": "code",
   "execution_count": null,
   "metadata": {},
   "outputs": [],
   "source": [
    "f1 = data.get('fluxesRBSP')"
   ]
  },
  {
   "cell_type": "code",
   "execution_count": null,
   "metadata": {},
   "outputs": [],
   "source": [
    "def interp1(x,y,xp):\n",
    "    inds = np.logical_not(np.isnan(y))\n",
    "    x = x[inds]\n",
    "    y = y[inds]\n",
    "    f = interp1d(x,y,bounds_error=False,fill_value=np.nan)\n",
    "    return f(xp)\n",
    "\n"
   ]
  },
  {
   "cell_type": "code",
   "execution_count": 78,
   "metadata": {},
   "outputs": [
    {
     "name": "stderr",
     "output_type": "stream",
     "text": [
      "23-Dec-21 04:54:38: Downloading remote index: https://spdf.gsfc.nasa.gov/pub/data/rbsp/rbspa/l3/ect/mageis/sectors/rel04/2014/\n",
      "23-Dec-21 04:54:39: File is current: D:\\SPEDAS files\\rbsp\\rbspa/l3/ect/mageis/sectors/rel04/2014/rbspa_rel04_ect-mageis-l3_20140112_v8.1.0.cdf\n"
     ]
    }
   ],
   "source": [
    "mageis_vars = pyspedas.rbsp.mageis([\"20140112\", \"20140113\"], probe='a', level='l3', rel='rel04', notplot=True)\n",
    "times = np.array(mageis_vars['FEDU']['x'])\n",
    "fluxes0 = np.array(mageis_vars['FEDU']['y'])\n",
    "alpha0 = np.array(mageis_vars['FEDU']['v1'])\n",
    "energy = np.array(mageis_vars['FEDU']['v2'])\n",
    "\n",
    "inds = np.where(np.isnan(fluxes0[:,-1,:]))\n",
    "fluxes0[(inds[0],-1*np.ones_like(inds[0]),inds[1])] = fluxes0[(inds[0],np.zeros_like(inds[0]),inds[1])]"
   ]
  },
  {
   "cell_type": "code",
   "execution_count": 110,
   "metadata": {},
   "outputs": [],
   "source": [
    "alpha = np.linspace(0, 180, 181)\n",
    "alpha = alpha[:-1] + np.diff(alpha)/2\n",
    "\n",
    "da0 = np.mean(np.diff(alpha0))\n",
    "da = np.mean(np.diff(alpha))\n",
    "\n",
    "alpha01 = np.concatenate(([0], alpha0, [180]))\n",
    "fluxes01 = np.concatenate((fluxes0[:,[0],:], fluxes0, fluxes0[:,[-1],:]), axis=1)\n",
    "\n",
    "f = interp1d(alpha01, fluxes01, kind='linear', axis=1)"
   ]
  },
  {
   "cell_type": "code",
   "execution_count": 111,
   "metadata": {},
   "outputs": [],
   "source": [
    "gg = f(alpha) * da / da0\n"
   ]
  },
  {
   "cell_type": "code",
   "execution_count": 108,
   "metadata": {},
   "outputs": [
    {
     "name": "stdout",
     "output_type": "stream",
     "text": [
      "nan\n",
      "nan\n"
     ]
    }
   ],
   "source": [
    "print(np.sum(gg))\n",
    "print(np.sum(fluxes0))"
   ]
  },
  {
   "cell_type": "code",
   "execution_count": 98,
   "metadata": {},
   "outputs": [
    {
     "data": {
      "text/plain": [
       "(7900, 13, 25)"
      ]
     },
     "execution_count": 98,
     "metadata": {},
     "output_type": "execute_result"
    }
   ],
   "source": []
  },
  {
   "cell_type": "code",
   "execution_count": null,
   "metadata": {},
   "outputs": [],
   "source": [
    "mageis_vars = pyspedas.rbsp.mageis([\"20140112\", \"20140113\"], probe='a', level='l3', rel='rel04', notplot=True)\n",
    "times = np.array(mageis_vars.get('FEDU').get('x'))\n",
    "mageis_pos_geo = mageis_vars.get('Position').get('y')/RE"
   ]
  },
  {
   "cell_type": "code",
   "execution_count": null,
   "metadata": {},
   "outputs": [],
   "source": [
    "mageis_pos_gsm = np.column_stack(gp.GEOtoGSE(*mageis_pos_geo.T, *TFm.times_to_dateUt(times)))"
   ]
  },
  {
   "cell_type": "code",
   "execution_count": null,
   "metadata": {},
   "outputs": [],
   "source": [
    "emfisis_vars = pyspedas.rbsp.emfisis([\"20140112\", \"20140113\"], probe='a', level='l3', notplot=True, coord='gse')\n",
    "emfisis_t = emfisis_vars.get('coordinates').get('x')\n",
    "emfisis_pos = emfisis_vars.get('coordinates').get('y')/RE"
   ]
  },
  {
   "cell_type": "code",
   "execution_count": null,
   "metadata": {},
   "outputs": [],
   "source": [
    "interp_posX = interp1(emfisis_t, emfisis_pos[:,0], times)\n",
    "interp_posY = interp1(emfisis_t, emfisis_pos[:,1], times)\n",
    "interp_posZ = interp1(emfisis_t, emfisis_pos[:,2], times)\n",
    "interp_pos = np.column_stack((interp_posX, interp_posY, interp_posZ))\n"
   ]
  },
  {
   "cell_type": "code",
   "execution_count": null,
   "metadata": {},
   "outputs": [],
   "source": [
    "print(np.mean(np.sum(np.sqrt((interp_pos - mageis_pos_gsm)**2), axis=1)))\n",
    "print(np.max(np.sum(np.sqrt((interp_pos - mageis_pos_gsm)**2), axis=1)))"
   ]
  },
  {
   "cell_type": "code",
   "execution_count": null,
   "metadata": {},
   "outputs": [],
   "source": [
    "print(mageis_pos_gsm[1])\n",
    "print(emfisis_pos[1])"
   ]
  },
  {
   "cell_type": "code",
   "execution_count": null,
   "metadata": {},
   "outputs": [],
   "source": [
    "np.max(np.abs(mageis_pos_gsm - interp_pos))"
   ]
  },
  {
   "cell_type": "code",
   "execution_count": null,
   "metadata": {},
   "outputs": [],
   "source": [
    "TFm.times_to_dateUt(times)"
   ]
  },
  {
   "cell_type": "code",
   "execution_count": null,
   "metadata": {},
   "outputs": [],
   "source": []
  },
  {
   "cell_type": "code",
   "execution_count": null,
   "metadata": {},
   "outputs": [],
   "source": []
  },
  {
   "cell_type": "code",
   "execution_count": null,
   "metadata": {},
   "outputs": [],
   "source": [
    "emfisis_vars = pyspedas.rbsp.emfisis([\"20140112\", \"20140113\"], probe='a', level='l3', notplot=True, coord='gsm')\n",
    "emfisis_t1 = emfisis_vars.get('coordinates').get('x')\n",
    "emfisis_pos_1 = emfisis_vars.get('coordinates').get('y')/RE\n",
    "\n",
    "emfisis_vars = pyspedas.rbsp.emfisis([\"20140112\", \"20140113\"], probe='a', level='l3', notplot=True, coord='gse')\n",
    "emfisis_t2 = emfisis_vars.get('coordinates').get('x')\n",
    "emfisis_pos_2 = emfisis_vars.get('coordinates').get('y')/RE\n",
    "\n",
    "emfisis_pos_2r = np.column_stack(gp.GSEtoGSM(*emfisis_pos_1.T, *TFm.times_to_dateUt(emfisis_t1)))\n",
    "print(np.mean(np.sum(np.sqrt((emfisis_pos_2r - emfisis_pos_2)**2), axis=1)))\n",
    "print(np.max(np.sum(np.sqrt((emfisis_pos_2r - emfisis_pos_2)**2), axis=1)))\n"
   ]
  },
  {
   "cell_type": "code",
   "execution_count": null,
   "metadata": {},
   "outputs": [],
   "source": [
    "np.sum(emfisis_pos_2r**2, axis=1)"
   ]
  },
  {
   "cell_type": "code",
   "execution_count": null,
   "metadata": {},
   "outputs": [],
   "source": []
  },
  {
   "cell_type": "code",
   "execution_count": null,
   "metadata": {},
   "outputs": [],
   "source": []
  },
  {
   "cell_type": "code",
   "execution_count": null,
   "metadata": {},
   "outputs": [],
   "source": [
    "def get_coord_GSM(date_start_str, date_end_str, times):\n",
    "    emfisis_vars = pyspedas.rbsp.emfisis([date_start_str, date_end_str], probe='a', level='l3', notplot=True, coord='gsm')\n",
    "    pos_times = emfisis_vars.get('coordinates').get('x')\n",
    "    pos_coords = emfisis_vars.get('coordinates').get('y')\n",
    "    if(np.nanmean(np.abs(pos_coords)) > 40):\n",
    "        pos_coords = pos_coords / 6371.2\n",
    "    x = pos_coords[:,0]\n",
    "    y = pos_coords[:,1]\n",
    "    z = pos_coords[:,2]\n",
    "\n",
    "    X = interp1(pos_times, x, times)\n",
    "    Y = interp1(pos_times, y, times)\n",
    "    Z = interp1(pos_times, z, times)\n",
    "    return np.column_stack((X,Y,Z))"
   ]
  },
  {
   "cell_type": "code",
   "execution_count": null,
   "metadata": {},
   "outputs": [],
   "source": [
    "mageis_vars = pyspedas.rbsp.mageis([\"20140112\", \"20140113\"], probe='a', level='l3', rel='rel04', notplot=True)\n",
    "times = np.array(mageis_vars.get('FEDU').get('x'))\n",
    "\n",
    "pos_gsm = get_coord_GSM(\"20140112\", \"20140113\", times)\n"
   ]
  },
  {
   "cell_type": "code",
   "execution_count": null,
   "metadata": {},
   "outputs": [],
   "source": [
    "pos_gsm[434, 2] = np.nan\n",
    "\n"
   ]
  },
  {
   "cell_type": "code",
   "execution_count": null,
   "metadata": {},
   "outputs": [],
   "source": []
  },
  {
   "cell_type": "code",
   "execution_count": 5,
   "metadata": {},
   "outputs": [],
   "source": [
    "data = dataFlux.get_dataflux(4, \"20140101\", \"20140102\")"
   ]
  },
  {
   "cell_type": "code",
   "execution_count": 4,
   "metadata": {},
   "outputs": [],
   "source": [
    "data.keys()\n",
    "def get_energy_int(f):\n",
    "    f[np.where(f < 0)] = 0\n",
    "    return np.sum(f, axis=1)\n",
    "\n"
   ]
  },
  {
   "cell_type": "code",
   "execution_count": 114,
   "metadata": {},
   "outputs": [],
   "source": [
    "f1 = data.get('fluxes1')\n",
    "f2 = data.get('fluxes2')\n",
    "ft = data.get('fluxesRBSP')"
   ]
  },
  {
   "cell_type": "code",
   "execution_count": 115,
   "metadata": {},
   "outputs": [],
   "source": [
    "f1e = get_energy_int(f1)\n",
    "f2e = get_energy_int(f2)\n",
    "fte = get_energy_int(ft)"
   ]
  },
  {
   "cell_type": "code",
   "execution_count": 120,
   "metadata": {},
   "outputs": [],
   "source": [
    "bins = np.logspace(2, 8, 200)\n",
    "H, xedges, yedges = np.histogram2d(f1e, fte, bins=bins)"
   ]
  },
  {
   "cell_type": "code",
   "execution_count": 121,
   "metadata": {},
   "outputs": [],
   "source": [
    "np.savetxt(\"binsX.txt\",xedges)\n",
    "np.savetxt(\"binsY.txt\",yedges)\n",
    "np.savetxt(\"binsZ.txt\",H)"
   ]
  },
  {
   "cell_type": "code",
   "execution_count": null,
   "metadata": {},
   "outputs": [],
   "source": []
  },
  {
   "cell_type": "code",
   "execution_count": null,
   "metadata": {},
   "outputs": [],
   "source": []
  },
  {
   "cell_type": "code",
   "execution_count": 123,
   "metadata": {},
   "outputs": [
    {
     "name": "stderr",
     "output_type": "stream",
     "text": [
      "23-Dec-21 15:27:01: Downloading remote index: https://spdf.gsfc.nasa.gov/pub/data/rbsp/rbspa/l3/emfisis/magnetometer/4sec/gsm/2016/\n",
      "23-Dec-21 15:27:02: File is current: D:\\SPEDAS files\\rbsp\\rbspa/l3/emfisis/magnetometer/4sec/gsm/2016/rbsp-a_magnetometer_4sec-gsm_emfisis-l3_20160623_v1.6.1.cdf\n"
     ]
    },
    {
     "name": "stdout",
     "output_type": "stream",
     "text": [
      "Value error for variable: Mag\n",
      "Value error for variable: Magnitude\n",
      "Value error for variable: delta\n",
      "Value error for variable: lambda\n",
      "Value error for variable: rms\n",
      "Value error for variable: coordinates\n"
     ]
    }
   ],
   "source": [
    "emfisis_vars = pyspedas.rbsp.emfisis([\"20160623\", \"20160624\"], probe='a', level='l3', notplot=True, coord='gsm')\n",
    "mfisis_vars_coord = emfisis_vars.get('coordinates')"
   ]
  },
  {
   "cell_type": "code",
   "execution_count": 130,
   "metadata": {},
   "outputs": [
    {
     "name": "stdout",
     "output_type": "stream",
     "text": [
      "2\n"
     ]
    }
   ],
   "source": [
    "if(np.array([]).size):\n",
    "    print(1)\n",
    "else:\n",
    "    print(2)"
   ]
  },
  {
   "cell_type": "code",
   "execution_count": 11,
   "metadata": {},
   "outputs": [],
   "source": [
    "import datetime"
   ]
  },
  {
   "cell_type": "code",
   "execution_count": 12,
   "metadata": {},
   "outputs": [
    {
     "data": {
      "text/plain": [
       "True"
      ]
     },
     "execution_count": 12,
     "metadata": {},
     "output_type": "execute_result"
    }
   ],
   "source": [
    "dtl  = (datetime.date(2012, 2, 12),)\n",
    "dt = datetime.date(2012, 2, 12)\n",
    "dt in dtl"
   ]
  },
  {
   "cell_type": "code",
   "execution_count": 13,
   "metadata": {},
   "outputs": [
    {
     "data": {
      "text/plain": [
       "'20120212'"
      ]
     },
     "execution_count": 13,
     "metadata": {},
     "output_type": "execute_result"
    }
   ],
   "source": [
    "dt.strftime('%Y%m%d')"
   ]
  },
  {
   "cell_type": "code",
   "execution_count": 31,
   "metadata": {},
   "outputs": [],
   "source": [
    "date_start  = datetime.date(2012, 9, 7)\n",
    "date_end    = datetime.date(2015, 1, 1)\n",
    "date_current = date_start\n",
    "date_step = datetime.timedelta(days=60)"
   ]
  },
  {
   "cell_type": "code",
   "execution_count": 32,
   "metadata": {},
   "outputs": [
    {
     "name": "stdout",
     "output_type": "stream",
     "text": [
      "Done: 2012-11-06\n",
      "Done: 2013-01-05\n",
      "Done: 2013-03-06\n",
      "Done: 2013-05-05\n",
      "Done: 2013-07-04\n",
      "Done: 2013-09-02\n",
      "Done: 2013-11-01\n",
      "Done: 2013-12-31\n",
      "Done: 2014-03-01\n",
      "Done: 2014-04-30\n",
      "Done: 2014-06-29\n",
      "Done: 2014-08-28\n",
      "Done: 2014-10-27\n",
      "Done: 2014-12-26\n",
      "Done: 2015-02-24\n"
     ]
    }
   ],
   "source": [
    "R = 4\n",
    "SymH = np.empty(shape=(0,))\n",
    "while(date_current < date_end):\n",
    "    date_start_p = date_current\n",
    "    date_current += date_step\n",
    "    date_end_p = min(date_current, date_end)\n",
    "    out_data =  dataFlux.get_dataflux(R, date_start_p.strftime('%Y%m%d'), date_end_p.strftime('%Y%m%d'), days_step=20)\n",
    "    # fluxes_data =  np.concatenate( (fluxes_data, get_energy_int(out_data.get('fluxes1'))) )\n",
    "    SymH = np.concatenate( (SymH, out_data.get('SymH')) )\n",
    "    print('Done: %s' % (date_current))\n"
   ]
  },
  {
   "cell_type": "code",
   "execution_count": 25,
   "metadata": {},
   "outputs": [],
   "source": [
    "SymHn = SymH[np.where(np.logical_not(np.isnan(SymH)))]"
   ]
  },
  {
   "cell_type": "code",
   "execution_count": 27,
   "metadata": {},
   "outputs": [],
   "source": [
    "y, x =  np.histogram(SymHn, 100)"
   ]
  },
  {
   "cell_type": "code",
   "execution_count": 29,
   "metadata": {},
   "outputs": [],
   "source": [
    "np.savetxt('datx.txt', x)\n",
    "np.savetxt('daty.txt', y)"
   ]
  },
  {
   "cell_type": "code",
   "execution_count": 30,
   "metadata": {},
   "outputs": [],
   "source": [
    "np.savetxt('symh.txt', SymHn)"
   ]
  },
  {
   "cell_type": "code",
   "execution_count": null,
   "metadata": {},
   "outputs": [],
   "source": []
  },
  {
   "cell_type": "code",
   "execution_count": null,
   "metadata": {},
   "outputs": [],
   "source": []
  },
  {
   "cell_type": "code",
   "execution_count": 10,
   "metadata": {},
   "outputs": [],
   "source": [
    "data = dataFlux.get_dataflux(4, \"20120907\", \"20150908\")"
   ]
  },
  {
   "cell_type": "code",
   "execution_count": 5,
   "metadata": {},
   "outputs": [],
   "source": [
    "f1 = data.get('fluxes1')\n",
    "f2 = data.get('fluxes2')\n",
    "ft = data.get('fluxesRBSP')\n",
    "f1e = get_energy_int(f1)\n",
    "f2e = get_energy_int(f2)\n",
    "fte = get_energy_int(ft)"
   ]
  },
  {
   "cell_type": "code",
   "execution_count": 6,
   "metadata": {},
   "outputs": [
    {
     "name": "stderr",
     "output_type": "stream",
     "text": [
      "23-Dec-21 23:14:03: C:\\Users\\PB720~1.SHU\\AppData\\Local\\Temp/ipykernel_60720/957651613.py:1: RuntimeWarning: invalid value encountered in true_divide\n",
      "  np.nanmax(f1e/fte)\n",
      "\n"
     ]
    },
    {
     "data": {
      "text/plain": [
       "1.0006599262757927"
      ]
     },
     "execution_count": 6,
     "metadata": {},
     "output_type": "execute_result"
    }
   ],
   "source": [
    "np.nanmax(f1e/fte)"
   ]
  },
  {
   "cell_type": "code",
   "execution_count": 1,
   "metadata": {},
   "outputs": [
    {
     "name": "stdout",
     "output_type": "stream",
     "text": [
      "Reading Data 100.00%\n"
     ]
    }
   ],
   "source": [
    "import numpy as np\n",
    "import datetime\n",
    "import os\n",
    "import dataFlux\n",
    "import fitFlows"
   ]
  },
  {
   "cell_type": "code",
   "execution_count": 2,
   "metadata": {},
   "outputs": [
    {
     "name": "stdout",
     "output_type": "stream",
     "text": [
      "Done: 2012-11-06\n",
      "Done: 2013-01-05\n",
      "Done: 2013-03-06\n",
      "Done: 2013-05-05\n",
      "Done: 2013-07-04\n",
      "Done: 2013-09-02\n",
      "Done: 2013-11-01\n",
      "Done: 2013-12-31\n",
      "Done: 2014-03-01\n",
      "Done: 2014-04-30\n",
      "Done: 2014-06-29\n",
      "Done: 2014-08-28\n",
      "Done: 2014-10-27\n",
      "Done: 2014-12-26\n",
      "Done: 2015-02-24\n",
      "Done: 2015-04-25\n",
      "Done: 2015-06-24\n",
      "Done: 2015-08-23\n",
      "Done: 2015-10-22\n",
      "Done: 2015-12-21\n",
      "Done: 2016-02-19\n",
      "Done: 2016-04-19\n",
      "Done: 2016-06-18\n",
      "Done: 2016-08-17\n",
      "Done: 2016-10-16\n",
      "Done: 2016-12-15\n",
      "Done: 2017-02-13\n",
      "Done: 2017-04-14\n",
      "Done: 2017-06-13\n",
      "Done: 2017-08-12\n",
      "Done: 2017-10-11\n",
      "Done: 2017-12-10\n",
      "Done: 2018-02-08\n",
      "Done: 2018-04-09\n",
      "Done: 2018-06-08\n",
      "Done: 2018-08-07\n",
      "Done: 2018-10-06\n",
      "Done: 2018-12-05\n",
      "Done: 2019-02-03\n",
      "Done: 2019-04-04\n",
      "Done: 2019-06-03\n",
      "Done: 2019-08-02\n",
      "Done: 2019-10-01\n",
      "Done: 2019-11-30\n"
     ]
    }
   ],
   "source": [
    "R = 4\n",
    "date_start  = datetime.date(2012, 9, 7)\n",
    "date_end    = datetime.date(2019, 10, 14)\n",
    "\n",
    "date_current = date_start\n",
    "date_step = datetime.timedelta(days=60)\n",
    "\n",
    "fluxes1 = np.empty(shape=(0,25))\n",
    "fluxes2 = np.empty(shape=(0,25))\n",
    "SymH = np.empty(shape=(0,))\n",
    "while(date_current < date_end):\n",
    "    date_start_p = date_current\n",
    "    date_current += date_step\n",
    "    date_end_p = min(date_current, date_end)\n",
    "    out_data = dataFlux.get_dataflux(R, date_start_p.strftime('%Y%m%d'), date_end_p.strftime('%Y%m%d'), days_step=20)\n",
    "    fluxes1 = np.concatenate( (fluxes1, out_data.get('fluxes1')) )\n",
    "    fluxes2 = np.concatenate( (fluxes2, out_data.get('fluxes2')) )\n",
    "    SymH = np.concatenate( (SymH, out_data.get('SymH')) )\n",
    "    print('Done: %s' % (date_current))\n",
    "\n",
    "N_SymH = 40\n",
    "N_fluxes = 100\n",
    "\n",
    "SymH_bins = fitFlows.get_equinumeros_subests_on_param('SymH', numOfBins=N_SymH, R=4, date_start_str=date_start.strftime('%Y%m%d'), date_end_str=date_end.strftime('%Y%m%d'))\n",
    "indsH = np.digitize(SymH,SymH_bins)\n",
    "fluxes_bins = np.logspace(-3,8,N_fluxes+1)"
   ]
  },
  {
   "cell_type": "code",
   "execution_count": 6,
   "metadata": {},
   "outputs": [
    {
     "data": {
      "text/plain": [
       "(501391, 25)"
      ]
     },
     "execution_count": 6,
     "metadata": {},
     "output_type": "execute_result"
    }
   ],
   "source": [
    "flx1 = fluxes1[indsH==(3)]\n",
    "flux_hist, bins = np.histogram(flx1, bins=fluxes_bins)\n",
    "flx1.shape"
   ]
  },
  {
   "cell_type": "code",
   "execution_count": 10,
   "metadata": {},
   "outputs": [],
   "source": [
    "N_energy = 25"
   ]
  },
  {
   "cell_type": "code",
   "execution_count": 11,
   "metadata": {},
   "outputs": [],
   "source": [
    "flux_hist = np.zeros((N_fluxes, N_energy, N_SymH))"
   ]
  },
  {
   "cell_type": "code",
   "execution_count": 7,
   "metadata": {},
   "outputs": [
    {
     "data": {
      "text/plain": [
       "array([ 1765.85601997,  1784.17161874, 10767.7854751 , ...,\n",
       "        6715.80186964,  5579.97342929,  6273.07935348])"
      ]
     },
     "execution_count": 7,
     "metadata": {},
     "output_type": "execute_result"
    }
   ],
   "source": [
    "fluxes1[indsH==(3), 5]"
   ]
  },
  {
   "cell_type": "code",
   "execution_count": 15,
   "metadata": {},
   "outputs": [
    {
     "name": "stdout",
     "output_type": "stream",
     "text": [
      "0.0\n",
      "0.025\n",
      "0.05\n",
      "0.075\n",
      "0.1\n",
      "0.125\n",
      "0.15\n",
      "0.175\n",
      "0.2\n",
      "0.225\n",
      "0.25\n",
      "0.275\n",
      "0.3\n",
      "0.325\n",
      "0.35\n",
      "0.375\n",
      "0.4\n",
      "0.425\n",
      "0.45\n",
      "0.475\n",
      "0.5\n",
      "0.525\n",
      "0.55\n",
      "0.575\n",
      "0.6\n",
      "0.625\n",
      "0.65\n",
      "0.675\n",
      "0.7\n",
      "0.725\n",
      "0.75\n",
      "0.775\n",
      "0.8\n",
      "0.825\n",
      "0.85\n",
      "0.875\n",
      "0.9\n",
      "0.925\n",
      "0.95\n",
      "0.975\n"
     ]
    }
   ],
   "source": [
    "for i in range(N_SymH):\n",
    "    print(i/N_SymH)\n",
    "    for j in range(N_energy):\n",
    "        flux_hist[:,j,i], bins = np.histogram(fluxes1[indsH==(i+1),j], bins=fluxes_bins)\n"
   ]
  },
  {
   "cell_type": "code",
   "execution_count": 34,
   "metadata": {},
   "outputs": [],
   "source": [
    "from Globals import *\n",
    "dirname = database + \"data_paper\\\\figure4\\\\\"\n",
    "\n",
    "for i in range(N_energy):\n",
    "    np.savetxt(dirname+'flux_hist_'+str(i)+'.txt', flux_hist[:,i,:])"
   ]
  },
  {
   "cell_type": "code",
   "execution_count": 49,
   "metadata": {},
   "outputs": [],
   "source": [
    "for i in range(fluxes1.shape[1]):\n",
    "    hist, bin_edges = np.histogram(SymH, bins=SymH_bins, weights=fluxes1[:,i])"
   ]
  },
  {
   "cell_type": "code",
   "execution_count": 23,
   "metadata": {},
   "outputs": [
    {
     "data": {
      "text/plain": [
       "(array([1.03437567e+11, 8.79413375e+10, 8.26394849e+10, 7.77817137e+10,\n",
       "        6.95524533e+10, 6.21096548e+10, 6.87631918e+10, 5.81021241e+10,\n",
       "        5.70821330e+10, 4.18595291e+10, 7.09944787e+10, 5.30564987e+10,\n",
       "        5.11117918e+10, 5.23148047e+10, 5.04414174e+10, 2.52516597e+10,\n",
       "        5.25629735e+10, 5.56097310e+10, 4.60956546e+10, 1.17961371e+10,\n",
       "        5.66137543e+10, 6.00091606e+10, 4.08874619e+10, 1.60972622e+10,\n",
       "        6.17208123e+10, 5.20032198e+10, 9.65874028e+09, 5.89865128e+10,\n",
       "        5.41660953e+10, 3.87828518e+10, 3.89682992e+10, 1.71068907e+10,\n",
       "        4.70679741e+10, 4.02741004e+10, 3.66488334e+10, 5.46417600e+10,\n",
       "        3.13984136e+10, 4.52767236e+10, 3.69288242e+10, 4.06227256e+10]),\n",
       " array([-2.32972094e+02, -4.79922686e+01, -3.77087507e+01, -3.20000000e+01,\n",
       "        -2.80154482e+01, -2.52369142e+01, -2.30000000e+01, -2.11493601e+01,\n",
       "        -1.99113775e+01, -1.80000000e+01, -1.70000000e+01, -1.59440004e+01,\n",
       "        -1.47185908e+01, -1.36795359e+01, -1.27754035e+01, -1.19942200e+01,\n",
       "        -1.10000000e+01, -1.00000000e+01, -9.00000000e+00, -8.45679359e+00,\n",
       "        -8.00000000e+00, -7.00000000e+00, -6.00000000e+00, -5.62171310e+00,\n",
       "        -5.00000000e+00, -4.00000000e+00, -3.37847808e+00, -3.00000000e+00,\n",
       "        -2.00000000e+00, -1.00000000e+00, -5.36022044e-01,  1.97084864e-01,\n",
       "         1.00000000e+00,  2.00000000e+00,  3.00000000e+00,  4.00000000e+00,\n",
       "         5.45881317e+00,  7.00000000e+00,  9.13215312e+00,  1.30000000e+01,\n",
       "         7.79445407e+01]))"
      ]
     },
     "execution_count": 23,
     "metadata": {},
     "output_type": "execute_result"
    }
   ],
   "source": [
    "np.histogram(SymH, bins=SymH_bins, weights=fluxes1[:,3])"
   ]
  },
  {
   "cell_type": "code",
   "execution_count": 19,
   "metadata": {},
   "outputs": [
    {
     "name": "stderr",
     "output_type": "stream",
     "text": [
      "24-Dec-21 02:43:54: Downloading remote index: https://spdf.gsfc.nasa.gov/pub/data/rbsp/rbspa/l3/ect/mageis/sectors/rel04/2015/\n",
      "24-Dec-21 02:43:55: File is current: D:\\SPEDAS files\\rbsp\\rbspa/l3/ect/mageis/sectors/rel04/2015/rbspa_rel04_ect-mageis-l3_20150101_v8.1.0.cdf\n",
      "24-Dec-21 02:43:56: d:\\work_Pavel\\7. PlasmaFlowsForecast\\python\\env\\lib\\site-packages\\erfa\\core.py:154: ErfaWarning: ERFA function \"dtf2d\" yielded 1 of \"dubious year (Note 6)\"\n",
      "  warnings.warn('ERFA function \"{}\" yielded {}'.format(func_name, wmsg),\n",
      "\n"
     ]
    },
    {
     "data": {
      "text/plain": [
       "dict_keys(['FEDU', 'FEDU_ERROR', 'FEDU_CORR', 'FEDU_CORR_ERROR', 'FPDU', 'FPDU_pix1', 'FPDU_pix2', 'L_star', 'L', 'I', 'B_Calc', 'B_Eq', 'MLT', 'MLAT', 'Position', 'LstarVsAlpha', 'LstarVsAlpha_Alpha'])"
      ]
     },
     "execution_count": 19,
     "metadata": {},
     "output_type": "execute_result"
    }
   ],
   "source": [
    "mageis_vars = pyspedas.rbsp.mageis(['2015-01-01/00:00:00', '2015-01-01/01:00:00'], probe='a', level='l3', rel='rel04', notplot=True)\n",
    "mageis_vars.keys()"
   ]
  },
  {
   "cell_type": "code",
   "execution_count": null,
   "metadata": {},
   "outputs": [],
   "source": [
    "mageis_vars = pyspedas.rbsp.mageis(['2015-01-01/00:00:00', '2015-01-01/01:00:00'], probe='a', level='l3', rel='rel04', notplot=True)\n",
    "energy = mageis_vars.get('FEDU').get('v2') \n",
    "dep = mageis_vars.get('FEDU').get('v2') "
   ]
  },
  {
   "cell_type": "code",
   "execution_count": null,
   "metadata": {},
   "outputs": [],
   "source": []
  },
  {
   "cell_type": "code",
   "execution_count": 35,
   "metadata": {},
   "outputs": [],
   "source": [
    "dirname = database + \"data_paper\\\\figure4\\\\\"\n",
    "energy_bins = np.loadtxt(dirname+'energy_bins.txt')\n",
    "fluxes_bins = np.loadtxt(dirname+'fluxes_bins.txt')\n",
    "SymH_bins   = np.loadtxt(dirname+'SymH_bins.txt')\n",
    "\n",
    "N_energy = len(energy_bins) - 1\n",
    "N_fluxes = len(fluxes_bins) - 1\n",
    "N_SymH   = len(SymH_bins) - 1\n",
    "    \n",
    "flux_hist = np.zeros((N_fluxes, N_SymH, N_energy))\n",
    "dirname = database + \"data_paper\\\\figure4\\\\flux_hist\\\\\"\n",
    "for i in range(N_energy):\n",
    "    flux_hist[:,:,i] = np.loadtxt(dirname+'flux_hist_'+str(i)+'.txt')"
   ]
  },
  {
   "cell_type": "code",
   "execution_count": 36,
   "metadata": {},
   "outputs": [
    {
     "data": {
      "text/plain": [
       "(100, 40, 25)"
      ]
     },
     "execution_count": 36,
     "metadata": {},
     "output_type": "execute_result"
    }
   ],
   "source": [
    "flux_hist.shape"
   ]
  }
 ],
 "metadata": {
  "interpreter": {
   "hash": "cf19baa62e79c8415afee7ed06f14f7def6b7e16b472bfbe152b9616aeb40550"
  },
  "kernelspec": {
   "display_name": "Python 3.9.7 64-bit ('env': venv)",
   "name": "python3"
  },
  "language_info": {
   "codemirror_mode": {
    "name": "ipython",
    "version": 3
   },
   "file_extension": ".py",
   "mimetype": "text/x-python",
   "name": "python",
   "nbconvert_exporter": "python",
   "pygments_lexer": "ipython3",
   "version": "3.9.9"
  },
  "orig_nbformat": 4
 },
 "nbformat": 4,
 "nbformat_minor": 2
}
