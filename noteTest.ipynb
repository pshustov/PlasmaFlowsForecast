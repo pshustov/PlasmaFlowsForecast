{
 "cells": [
  {
   "cell_type": "code",
   "execution_count": 5,
   "source": [
    "import numpy as np\r\n",
    "import pyspedas\r\n",
    "import datetime\r\n",
    "import ctypes as ct\r\n",
    "import os\r\n",
    "import ftplib\r\n",
    "from ftplib import FTP\r\n",
    "from ftplib import FTP_TLS\r\n",
    "import PyGeopack as gp\r\n",
    "from PyGeopack.TraceField import TraceField\r\n",
    "from math import ceil\r\n",
    "import pyomnidata as omni\r\n",
    "import kpindex as kp\r\n",
    "import pickle"
   ],
   "outputs": [],
   "metadata": {}
  },
  {
   "cell_type": "code",
   "execution_count": 34,
   "source": [
    "date_start = datetime.date(2015, 1, 1)\r\n",
    "date_end = datetime.date(2015, 1, 2)\r\n",
    "\r\n",
    "out_data = {}\r\n",
    "def load_outdata(date_start, date_end, R):\r\n",
    "    dirname = './outdata'\r\n",
    "    date_current = date_start\r\n",
    "    one_day = datetime.timedelta(days=1)\r\n",
    "    while(date_current < date_end):\r\n",
    "        filename = dirname + '/outdata_' + str(R) + '_' + date_current.strftime('%Y-%m-%d.dat')\r\n",
    "        with open(filename, 'rb') as fileData:\r\n",
    "            out_data = dict_conc(out_data,pickle.load(fileData))\r\n",
    "        date_current += one_day\r\n",
    "\r\n",
    "out_data.keys()"
   ],
   "outputs": [
    {
     "output_type": "execute_result",
     "data": {
      "text/plain": [
       "dict_keys([])"
      ]
     },
     "metadata": {},
     "execution_count": 34
    }
   ],
   "metadata": {}
  },
  {
   "cell_type": "code",
   "execution_count": 31,
   "source": [
    "def dict_conc(A, B):\r\n",
    "    if(A):\r\n",
    "        attr_names_A = list(A.keys()) \r\n",
    "        attr_names_B = list(B.keys()) \r\n",
    "        if not attr_names_A == attr_names_B:\r\n",
    "            raise Exception('Different set of keys in dictionaries')\r\n",
    "        \r\n",
    "        C = {}\r\n",
    "        attr_names_nonNParray = list()\r\n",
    "        for attr_name in attr_names_A:\r\n",
    "            if isinstance(A.get(attr_name),np.ndarray):\r\n",
    "                exec(\"C.update({'%s': np.concatenate((A.get('%s'), B.get('%s')), axis=0)})\" % (attr_name, attr_name, attr_name))\r\n",
    "            else:\r\n",
    "                attr_names_nonNParray.append(attr_name)\r\n",
    "        if(attr_names_nonNParray != list('n')):\r\n",
    "            print(attr_names_nonNParray)\r\n",
    "            raise Exception('Unknown class attribute')\r\n",
    "        else:\r\n",
    "            a = 1\r\n",
    "    else:\r\n",
    "        C = B\r\n",
    "    return C"
   ],
   "outputs": [],
   "metadata": {}
  },
  {
   "cell_type": "code",
   "execution_count": 26,
   "source": [
    "tt = {'a': np.zeros((5,1)), 'b':  np.ones((5,3))}\r\n",
    "tt1 = tt\r\n",
    "tt2 = {}"
   ],
   "outputs": [],
   "metadata": {}
  },
  {
   "cell_type": "code",
   "execution_count": 28,
   "source": [
    "tt2.update({'a': np.concatenate((tt.get('a'), tt1.get('a')), axis=0)})"
   ],
   "outputs": [],
   "metadata": {}
  },
  {
   "cell_type": "code",
   "execution_count": 30,
   "source": [
    "tt2.get('a').shape"
   ],
   "outputs": [
    {
     "output_type": "execute_result",
     "data": {
      "text/plain": [
       "(10, 1)"
      ]
     },
     "metadata": {},
     "execution_count": 30
    }
   ],
   "metadata": {}
  },
  {
   "cell_type": "code",
   "execution_count": 35,
   "source": [
    "import kpindex\r\n",
    "import pyomnidata as omni"
   ],
   "outputs": [],
   "metadata": {}
  },
  {
   "cell_type": "code",
   "execution_count": 36,
   "source": [
    "dataOmni = omni.ReadOMNI()\r\n",
    "utc = dataOmni['utc']\r\n",
    "omni_time = np.zeros_like(utc)\r\n",
    "for i in range(len(utc)):\r\n",
    "    omni_time[i] = (datetime.datetime(year=1950,month=1,day=1) + datetime.timedelta(hours=utc[i])).timestamp()"
   ],
   "outputs": [],
   "metadata": {}
  }
 ],
 "metadata": {
  "orig_nbformat": 4,
  "language_info": {
   "name": "python",
   "version": "3.7.8",
   "mimetype": "text/x-python",
   "codemirror_mode": {
    "name": "ipython",
    "version": 3
   },
   "pygments_lexer": "ipython3",
   "nbconvert_exporter": "python",
   "file_extension": ".py"
  },
  "kernelspec": {
   "name": "python3",
   "display_name": "Python 3.7.8 64-bit"
  },
  "interpreter": {
   "hash": "57baa5815c940fdaff4d14510622de9616cae602444507ba5d0b6727c008cbd6"
  }
 },
 "nbformat": 4,
 "nbformat_minor": 2
}